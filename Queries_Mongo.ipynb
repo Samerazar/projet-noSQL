{
 "cells": [
  {
   "cell_type": "code",
   "execution_count": 175,
   "metadata": {
    "collapsed": true
   },
   "outputs": [],
   "source": [
    "from pymongo import MongoClient\n",
    "import pprint\n",
    "import pandas as pd\n",
    "\n",
    "client = MongoClient('ec2-54-173-229-9.compute-1.amazonaws.com:27026')\n",
    "db = client.gdelt\n",
    "events = db.events"
   ]
  },
  {
   "cell_type": "code",
   "execution_count": 176,
   "metadata": {
    "collapsed": false
   },
   "outputs": [
    {
     "name": "stdout",
     "output_type": "stream",
     "text": [
      "1463717\n"
     ]
    }
   ],
   "source": [
    "result = events.count()\n",
    "print(result)"
   ]
  },
  {
   "cell_type": "code",
   "execution_count": 177,
   "metadata": {
    "collapsed": false
   },
   "outputs": [
    {
     "name": "stdout",
     "output_type": "stream",
     "text": [
      "TIME : 1.607672929763794\n"
     ]
    }
   ],
   "source": [
    "import time\n",
    "t0 = time.time()\n",
    "d = events.aggregate([{\n",
    "   \"$project\": {\n",
    "       \"Day\": \"$Day\",\n",
    "       \"Actor2CountryCode\": \"$Actor2CountryCode\",\n",
    "       \"Actor1CountryCode\": \"$Actor1CountryCode\",\n",
    "       \"GoldsteinScale\": \"$GoldsteinScale\",\n",
    "       \"latitude\" : \"$Actor1Geo_Lat\",\n",
    "       \"longitude\" : \"$Actor1Geo_Long\",\n",
    "       \"typeAvis\":\n",
    "           {\"$cond\": [ { \"$gte\": [ \"$GoldsteinScale\", 0 ] }, \"pos\", \"neg\" ]}}},{\n",
    "   \"$match\": {\n",
    "       \"Actor2CountryCode\": \"FRA\",\n",
    "       \"Day\":{\"$lt\": 20170522, \"$gte\": 20170421}}},{\n",
    "   \"$group\":{\n",
    "           \"_id\":{\"dd\":\"$Day\", \"cc\":\"$Actor1CountryCode\", \"typeAvis\":\"$typeAvis\"},\n",
    "           \"lat\":{\"$avg\": \"$latitude\"},\n",
    "           \"long\":{\"$avg\": \"$longitude\"},\n",
    "           \"avgGS\":{\"$avg\": \"$GoldsteinScale\"}, \"minGS\":{\"$min\": \"$GoldsteinScale\"},\n",
    "           \"maxGS\":{\"$max\": \"$GoldsteinScale\"}, \"numGS\":{\"$sum\":1},\n",
    "           \"stdDevGS\": {\"$stdDevPop\": \"$GoldsteinScale\" }}}, {\n",
    "   \"$sort\": { \"Day\": 1, \"numGS\": -1 } }])\n",
    "t1 = time.time()\n",
    "print(\"TIME :\", t1-t0)"
   ]
  },
  {
   "cell_type": "code",
   "execution_count": 178,
   "metadata": {
    "collapsed": false,
    "scrolled": false
   },
   "outputs": [],
   "source": [
    "df = pd.DataFrame(list(d))\n",
    "df1 = pd.DataFrame(df['_id'].tolist())\n",
    "df[['Country_Code','Day','Avis']] = df1\n",
    "del df['_id']\n",
    "df['Date'] = pd.to_datetime(df['Day'], format='%Y%m%d')\n",
    "del df['Day']\n",
    "df = df.sort_values(by='Date')\n",
    "df = df.dropna()"
   ]
  },
  {
   "cell_type": "code",
   "execution_count": 179,
   "metadata": {
    "collapsed": true
   },
   "outputs": [],
   "source": [
    "countries = pd.read_excel('countries.xlsx')"
   ]
  },
  {
   "cell_type": "code",
   "execution_count": 180,
   "metadata": {
    "collapsed": false
   },
   "outputs": [],
   "source": [
    "for cc,lat,long in zip(countries['Code'],countries['lat'],countries['long']):\n",
    "    df.loc[df['Country_Code'] == cc,'lat'] = lat\n",
    "    df.loc[df['Country_Code'] == cc,'long'] = long"
   ]
  },
  {
   "cell_type": "code",
   "execution_count": 181,
   "metadata": {
    "collapsed": true
   },
   "outputs": [],
   "source": [
    "df.to_csv('data.csv',sep=';')"
   ]
  },
  {
   "cell_type": "code",
   "execution_count": 200,
   "metadata": {
    "collapsed": true
   },
   "outputs": [],
   "source": [
    "import folium"
   ]
  },
  {
   "cell_type": "code",
   "execution_count": 204,
   "metadata": {
    "collapsed": false
   },
   "outputs": [],
   "source": [
    "maps = {}\n",
    "for date in df['Date'].unique():\n",
    "    map_1 = folium.Map(location=[30, 0], width=1000, height=500, zoom_start=2,)\n",
    "    df7 = df[df['Date'] == date]\n",
    "    for i, j, numGS, avis, cc in zip(df7['lat'], df7['long'], df7['numGS'], df7['Avis'], df7['Country_Code']):\n",
    "        if (str(avis) == 'pos'):\n",
    "            folium.CircleMarker([i, j], radius=10, popup='Country : ' +\n",
    "                                str(cc) + ' | ' + 'numGS : ' + str(numGS)).add_to(map_1)\n",
    "        else:\n",
    "            folium.CircleMarker([i, j], radius=5, popup='Country : ' + str(cc) + ' | ' + 'numGS : ' + str(numGS), color='red').add_to(map_1)\n",
    "    maps[str(date).split('T')[0]] = map_1"
   ]
  }
 ],
 "metadata": {
  "kernelspec": {
   "display_name": "Python 3",
   "language": "python",
   "name": "python3"
  },
  "language_info": {
   "codemirror_mode": {
    "name": "ipython",
    "version": 3
   },
   "file_extension": ".py",
   "mimetype": "text/x-python",
   "name": "python",
   "nbconvert_exporter": "python",
   "pygments_lexer": "ipython3",
   "version": "3.6.0"
  }
 },
 "nbformat": 4,
 "nbformat_minor": 2
}
