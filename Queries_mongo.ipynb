{
 "cells": [
  {
   "cell_type": "code",
   "execution_count": 1,
   "metadata": {
    "collapsed": true
   },
   "outputs": [],
   "source": [
    "from pymongo import MongoClient\n",
    "import pprint\n",
    "import pandas as pd"
   ]
  },
  {
   "cell_type": "code",
   "execution_count": 2,
   "metadata": {
    "collapsed": true
   },
   "outputs": [],
   "source": [
    "client = MongoClient('ec2-54-173-229-9.compute-1.amazonaws.com:27026')\n",
    "db = client.gdelt\n",
    "events = db.events"
   ]
  },
  {
   "cell_type": "code",
   "execution_count": 3,
   "metadata": {
    "collapsed": false
   },
   "outputs": [
    {
     "name": "stdout",
     "output_type": "stream",
     "text": [
      "1463717\n"
     ]
    }
   ],
   "source": [
    "result = events.count()\n",
    "print(result)"
   ]
  },
  {
   "cell_type": "code",
   "execution_count": 4,
   "metadata": {
    "collapsed": false
   },
   "outputs": [
    {
     "name": "stdout",
     "output_type": "stream",
     "text": [
      "TIME : 1.6304187774658203\n"
     ]
    }
   ],
   "source": [
    "import time\n",
    "t0 = time.time()\n",
    "d = events.aggregate([{\n",
    "   \"$project\": {\n",
    "       \"Day\": \"$Day\",\n",
    "       \"Actor2CountryCode\": \"$Actor2CountryCode\",\n",
    "       \"Actor1CountryCode\": \"$Actor1CountryCode\",\n",
    "       \"GoldsteinScale\": \"$GoldsteinScale\",\n",
    "       \"latitude\" : \"$Actor1Geo_Lat\",\n",
    "       \"longitude\" : \"$Actor1Geo_Long\",\n",
    "       \"typeAvis\":\n",
    "           {\"$cond\": [ { \"$gte\": [ \"$GoldsteinScale\", 0 ] }, \"pos\", \"neg\" ]}}},{\n",
    "   \"$match\": {\n",
    "       \"Actor2CountryCode\": \"FRA\",\n",
    "       \"Day\":{\"$lt\": 20170522, \"$gte\": 20170421}}},{\n",
    "   \"$group\":{\n",
    "           \"_id\":{\"dd\":\"$Day\", \"cc\":\"$Actor1CountryCode\", \"typeAvis\":\"$typeAvis\"},\n",
    "           \"lat\":{\"$avg\": \"$latitude\"},\n",
    "           \"long\":{\"$avg\": \"$longitude\"},\n",
    "           \"avgGS\":{\"$avg\": \"$GoldsteinScale\"}, \"minGS\":{\"$min\": \"$GoldsteinScale\"},\n",
    "           \"maxGS\":{\"$max\": \"$GoldsteinScale\"}, \"numGS\":{\"$sum\":1},\n",
    "           \"stdDevGS\": {\"$stdDevPop\": \"$GoldsteinScale\" }}}, {\n",
    "   \"$sort\": { \"Day\": 1, \"numGS\": -1 } }])\n",
    "t1 = time.time()\n",
    "print(\"TIME :\", t1-t0)"
   ]
  },
  {
   "cell_type": "code",
   "execution_count": 5,
   "metadata": {
    "collapsed": false,
    "scrolled": false
   },
   "outputs": [],
   "source": [
    "df = pd.DataFrame(list(d))\n",
    "df1 = pd.DataFrame(df['_id'].tolist())\n",
    "df[['Country_Code','Day','Avis']] = df1\n",
    "del df['_id']\n",
    "df['Date'] = pd.to_datetime(df['Day'], format='%Y%m%d')\n",
    "del df['Day']\n",
    "df = df.sort_values(by='Date')\n",
    "df = df.dropna()"
   ]
  },
  {
   "cell_type": "code",
   "execution_count": 6,
   "metadata": {
    "collapsed": true
   },
   "outputs": [],
   "source": [
    "countries = pd.read_excel('countries.xlsx')"
   ]
  },
  {
   "cell_type": "code",
   "execution_count": 7,
   "metadata": {
    "collapsed": false
   },
   "outputs": [],
   "source": [
    "for cc,lat,long in zip(countries['Code'],countries['lat'],countries['long']):\n",
    "    df.loc[df['Country_Code'] == cc,'lat'] = lat\n",
    "    df.loc[df['Country_Code'] == cc,'long'] = long"
   ]
  },
  {
   "cell_type": "code",
   "execution_count": 8,
   "metadata": {
    "collapsed": true
   },
   "outputs": [],
   "source": [
    "df.to_csv('data.csv',sep=';')"
   ]
  }
 ],
 "metadata": {
  "kernelspec": {
   "display_name": "Python 3",
   "language": "python",
   "name": "python3"
  },
  "language_info": {
   "codemirror_mode": {
    "name": "ipython",
    "version": 3
   },
   "file_extension": ".py",
   "mimetype": "text/x-python",
   "name": "python",
   "nbconvert_exporter": "python",
   "pygments_lexer": "ipython3",
   "version": "3.6.0"
  }
 },
 "nbformat": 4,
 "nbformat_minor": 2
}
