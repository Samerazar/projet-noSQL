{
 "cells": [
  {
   "cell_type": "code",
   "execution_count": 1,
   "metadata": {
    "collapsed": true
   },
   "outputs": [],
   "source": [
    "import numpy as np              \n",
    "import pandas as pd\n",
    "import os  \n",
    "\n",
    "from multiprocessing import Pool\n",
    "\n",
    "import warnings\n",
    "warnings.filterwarnings('ignore')"
   ]
  },
  {
   "cell_type": "code",
   "execution_count": 2,
   "metadata": {
    "collapsed": false
   },
   "outputs": [],
   "source": [
    "# Filtrage\n",
    "dfs = []\n",
    "fields = [\"GlobalEventID\",  \"Day\", \"MonthYear\", \"Year\",   \"FractionDate\",   \"Actor1Code\", \"Actor1Name\",\n",
    "                \"Actor1CountryCode\", \"Actor1KnownGroupCode\",  \"Actor1EthnicCode\", \"Actor1Religion1Code\",\n",
    "                \"Actor1Religion2Code\", \"Actor1Type1Code\", \"Actor1Type2Code\", \"Actor1Type3Code\", \"Actor2Code\",\n",
    "                \"Actor2Name\", \"Actor2CountryCode\", \"Actor2KnownGroupCode\", \"Actor2EthnicCode\", \"Actor2Religion1Code\",\n",
    "                \"Actor2Religion2Code\", \"Actor2Type1Code\", \"Actor2Type2Code\", \"Actor2Type3Code\", \"IsRootEvent\",\n",
    "                \"EventCode\", \"EventBaseCode\", \"EventRootCode\", \"QuadClass\", \"GoldsteinScale\", \"NumMentions\",\n",
    "                \"NumSources\", \"NumArticles\", \"AvgTone\", \"Actor1Geo_Type\", \"Actor1Geo_Fullname\",\n",
    "                \"Actor1Geo_CountryCode\", \"Actor1Geo_ADM1Code\", \"Actor1Geo_ADM2Code\", \"Actor1Geo_Lat\", \"Actor1Geo_Long\",\n",
    "                \"Actor1Geo_FeatureID\", \"Actor2Geo_Type\", \"Actor2Geo_Fullname\", \"Actor2Geo_CountryCode\",\n",
    "                \"Actor2Geo_ADM1Code\", \"Actor2Geo_ADM2Code\", \"Actor2Geo_Lat\", \"Actor2Geo_Long\", \"Actor2Geo_FeatureID\",\n",
    "                \"ActionGeo_Type\", \"ActionGeo_Fullname\", \"ActionGeo_CountryCode\", \"ActionGeo_ADM1Code\",\n",
    "                \"ActionGeo_ADM2Code\", \"Action2Geo_Lat\", \"Action2Geo_Long\", \"Action2Geo_FeatureID\", \"DATEADDED\",\n",
    "                \"SOURCEURL\"]"
   ]
  },
  {
   "cell_type": "code",
   "execution_count": 3,
   "metadata": {
    "collapsed": true
   },
   "outputs": [],
   "source": [
    "# april\n",
    "for day in ['21','22','23','24','25','26','27','28','29','30']:\n",
    "    for hours in ['00','01','02','03','04','05','06','07','08','09','10','11','12','13','14','15','16','17','18','19','20','21','22','23']:\n",
    "        for minutes in ['00','15','30','45']:\n",
    "            code = '201704' + day + hours + minutes + '00'\n",
    "            if (os.path.isfile('./data/' +  code + '.export.CSV')):\n",
    "                df = pd.read_csv('./data/' +  code + '.export.CSV', sep='\\t', header=None, names=fields)\n",
    "                df = df[['GlobalEventID','Day', 'Actor1CountryCode', 'Actor2CountryCode', 'GoldsteinScale', 'NumMentions', 'NumSources', \n",
    "                'NumArticles', 'AvgTone',  'Actor1Geo_Lat','Actor1Geo_Long', 'Actor2Geo_Lat', 'Actor2Geo_Long', 'DATEADDED', 'SOURCEURL']]\n",
    "                df = df[(df['Actor1CountryCode'].notnull()) & (df['Actor2CountryCode'].notnull())]\n",
    "                df['DATEADDED'] = df['DATEADDED'].replace(code, int('201704' + day))\n",
    "                if (df.shape[0] != 0):\n",
    "                    dfs.append(df)"
   ]
  },
  {
   "cell_type": "code",
   "execution_count": 4,
   "metadata": {
    "collapsed": true
   },
   "outputs": [],
   "source": [
    "# may \n",
    "for day in ['01','02','03','04','05','06','07','08','09','10','11','12','13','14','15','16','17','18','19','20','21']:\n",
    "    for hours in ['00','01','02','03','04','05','06','07','08','09','10','11','12','13','14','15','16','17','18','19','20','21','22','23']:\n",
    "        for minutes in ['00','15','30','45']:\n",
    "            code = '201705' + day + hours + minutes + '00'\n",
    "            if (os.path.isfile('./data/' +  code + '.export.CSV')):\n",
    "                df = pd.read_csv('./data/' +  code + '.export.CSV', sep='\\t', header=None, names=fields)\n",
    "                df = df[['GlobalEventID','Day', 'Actor1CountryCode', 'Actor2CountryCode', 'GoldsteinScale', 'NumMentions', 'NumSources', \n",
    "                'NumArticles', 'AvgTone',  'Actor1Geo_Lat','Actor1Geo_Long', 'Actor2Geo_Lat', 'Actor2Geo_Long', 'DATEADDED', 'SOURCEURL']]\n",
    "                df = df[(df['Actor1CountryCode'].notnull()) & (df['Actor2CountryCode'].notnull())]\n",
    "                df['DATEADDED'] = df['DATEADDED'].replace(code, int('201705' + day))\n",
    "                if (df.shape[0] != 0):\n",
    "                    dfs.append(df)"
   ]
  },
  {
   "cell_type": "code",
   "execution_count": 8,
   "metadata": {
    "collapsed": false
   },
   "outputs": [],
   "source": [
    "from pymongo import MongoClient\n",
    "\n",
    "client = MongoClient('ec2-54-173-229-9.compute-1.amazonaws.com:27026')\n",
    "db = client.gdelt\n",
    "events = db.events"
   ]
  },
  {
   "cell_type": "code",
   "execution_count": 9,
   "metadata": {
    "collapsed": false
   },
   "outputs": [],
   "source": [
    "def loadMongo(df):\n",
    "    data = df.T.to_dict().values()\n",
    "    result = events.insert_many(data)\n",
    "    return 0"
   ]
  },
  {
   "cell_type": "code",
   "execution_count": 10,
   "metadata": {
    "collapsed": false,
    "scrolled": false
   },
   "outputs": [
    {
     "name": "stdout",
     "output_type": "stream",
     "text": [
      "TIME :  102.5484471321106\n"
     ]
    }
   ],
   "source": [
    "import time \n",
    "t0 = time.time()\n",
    "p = Pool(5)\n",
    "p.map(loadMongo,dfs)\n",
    "t1 = time.time()\n",
    "print(\"TIME : \", t1-t0)"
   ]
  }
 ],
 "metadata": {
  "kernelspec": {
   "display_name": "Python 3",
   "language": "python",
   "name": "python3"
  },
  "language_info": {
   "codemirror_mode": {
    "name": "ipython",
    "version": 3
   },
   "file_extension": ".py",
   "mimetype": "text/x-python",
   "name": "python",
   "nbconvert_exporter": "python",
   "pygments_lexer": "ipython3",
   "version": "3.6.0"
  }
 },
 "nbformat": 4,
 "nbformat_minor": 2
}
